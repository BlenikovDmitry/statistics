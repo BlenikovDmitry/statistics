import pandas as pd
import numpy as np

data = pd.read_csv('ofz.csv', encoding='Windows-1251', decimal=',')
#названия столбцов в нижний формат, пробелы заменяем _, точки заменяем на пустой символ
data.columns = data.columns.str.strip().str.lower().str.replace(' ', '_').str.replace('.', '')

#приводим к удобному формату:
#переводим в нижний формат
data['код'] = data['код'].str.lower()
data['наименование'] = data['наименование'].str.lower()
data['валюта_номинала'] = data['валюта_номинала'].str.lower()
data['валюта_расчетов'] = data['валюта_расчетов'].str.lower()

#некоторые значения суммы купона в сырых данных пропущены, заменяем на 0
data['сумма_купона'] = data['сумма_купона'].str.replace('-', '0')
#приводим к float сумму купона, непогашенный долг, чтобы заполнить столбец ставка_купона
data['сумма_купона'] = data['сумма_купона'].str.replace(',', '.').astype(float)
data['непогашенный_долг'] = data['непогашенный_долг'].astype(float)
#заполняем столбец ставка_купона и переводим в проценты и в строку
data['ставка_купона'] = ((data['сумма_купона'].astype(float) / data['непогашенный_долг'].astype(float) * 2) * 100).astype(str) + '%'

#убрали все бумаги, у которых нет рыночной цены
data['цена_%_средневзвешенная'] = data['цена_%_средневзвешенная'].str.replace('-', '0')
data['цена_%_средневзвешенная'] = data['цена_%_средневзвешенная'].str.replace(',', '.').astype(float)
data = data.loc[data['цена_%_средневзвешенная'].astype(float) > 0]

print(data)
data.to_csv('ofz_cleared.csv')
